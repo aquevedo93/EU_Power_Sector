{
 "cells": [
  {
   "cell_type": "code",
   "execution_count": 1,
   "metadata": {},
   "outputs": [],
   "source": [
    "import pandas as pd\n",
    "import os\n",
    "import requests\n",
    "import io\n",
    "from bs4 import BeautifulSoup \n",
    "import re\n",
    "import numpy as np\n",
    "import zipfile as zf\n",
    "from io import BytesIO\n",
    "import pint\n",
    "from pint import UnitRegistry\n",
    "ureg=pint.UnitRegistry()"
   ]
  },
  {
   "cell_type": "markdown",
   "metadata": {},
   "source": [
    "## Saving desired raw JRC datasets"
   ]
  },
  {
   "cell_type": "code",
   "execution_count": 2,
   "metadata": {},
   "outputs": [
    {
     "name": "stdout",
     "output_type": "stream",
     "text": [
      "<Response [200]>\n",
      "['JRC_OPEN_LINKAGES.csv', 'JRC_OPEN_TEMPORAL.csv', 'JRC_OPEN_UNITS.csv']\n"
     ]
    }
   ],
   "source": [
    "## Saving desired raw JRC datasets\n",
    "\n",
    "JRC_URL= 'https://zenodo.org/record/3349843#.XVLRjnspCUl'\n",
    "\n",
    "r = requests.get(JRC_URL) \n",
    "print(r)\n",
    "soup = BeautifulSoup(r.text,'html.parser')\n",
    "\n",
    "#storing all 'a' tags\n",
    "links= soup.find_all('a',attrs={'class':'filename'})\n",
    "\n",
    "#keeping only links to zip\n",
    "zip_available=[]\n",
    "for item in links:\n",
    "    urls= 'https://zenodo.org'+item.get('href')\n",
    "    zip_available.append(urls)\n",
    "    \n",
    "#link to zip folder \n",
    "jrc_dat=zip_available[-1]\n",
    "        \n",
    "#getting a list of files in the zip folder \n",
    "r2 = requests.get(jrc_dat, stream=True)\n",
    "with zf.ZipFile(BytesIO(r2.content)) as z:\n",
    "    # z is a zipfile object\n",
    "    file_names = z.namelist()\n",
    "    \n",
    "    csvs=[]\n",
    "    for file in file_names:\n",
    "        if file.endswith('.csv'):\n",
    "            csvs.append(file)\n",
    "        else:\n",
    "            pass\n",
    "        \n",
    "    #keeping only OPEN_UNITS and OPEN_TEMPORAL\n",
    "    params_remove= ['PERFORMANCE']\n",
    "    jrc_datasets= [csv_file for csv_file in csvs if not any(param in csv_file for param in params_remove)]\n",
    "\n",
    "    print(jrc_datasets)\n",
    "    \n",
    "    dat_names=[]\n",
    "    for dataset in jrc_datasets:\n",
    "        name= dataset.split('_')[2]\n",
    "        file_name= name.split('.')[0]\n",
    "        dat_names.append(file_name)\n",
    "    \n",
    "    for csv, f_name in zip(jrc_datasets,dat_names):\n",
    "        new_file_name= 'raw_europe_{}.csv'.format(f_name)\n",
    "        target_path= os.getcwd()+'/' + new_file_name\n",
    "        with open(target_path, 'wb') as f:\n",
    "            f.write(z.read(csv))"
   ]
  },
  {
   "cell_type": "markdown",
   "metadata": {},
   "source": [
    "## Reading raw csv files"
   ]
  },
  {
   "cell_type": "code",
   "execution_count": 3,
   "metadata": {},
   "outputs": [],
   "source": [
    "jrc_units = pd.read_csv('raw_europe_UNITS.csv')\n",
    "jrc_co2 = pd.read_csv('raw_europe_TEMPORAL.csv')\n",
    "jrc_id = pd.read_csv('raw_europe_LINKAGES.csv')"
   ]
  },
  {
   "cell_type": "markdown",
   "metadata": {},
   "source": [
    "## Data Cleaning"
   ]
  },
  {
   "cell_type": "markdown",
   "metadata": {},
   "source": [
    "Merging jrc_co2 and jrc_units"
   ]
  },
  {
   "cell_type": "code",
   "execution_count": 4,
   "metadata": {},
   "outputs": [],
   "source": [
    "jrc_df = pd.merge(jrc_co2,jrc_units,'left',on=['eic_p','eic_g','type_g'])"
   ]
  },
  {
   "cell_type": "markdown",
   "metadata": {},
   "source": [
    "Keeping operating power plants"
   ]
  },
  {
   "cell_type": "code",
   "execution_count": 5,
   "metadata": {},
   "outputs": [],
   "source": [
    "jrc_df = jrc_df[jrc_df['status_g'] == 'COMMISSIONED']"
   ]
  },
  {
   "cell_type": "markdown",
   "metadata": {},
   "source": [
    "Aggregating at the plant level by year"
   ]
  },
  {
   "cell_type": "code",
   "execution_count": 6,
   "metadata": {},
   "outputs": [],
   "source": [
    "wm = lambda x: np.average(x,weights=jrc_df.loc[x.index,'capacity_g'])\n",
    "dominant_fuel_type = lambda x: x.value_counts().index[0]\n",
    "\n",
    "jrc_plant = jrc_df.groupby(['eic_p', 'cyear']).agg({'name_p':'first',\n",
    "                                                    'capacity_p':'first',\n",
    "                                                    'type_g':dominant_fuel_type,\n",
    "                                                    'lat':'first',\n",
    "                                                    'lon':'first',\n",
    "                                                    'country':'first',\n",
    "                                                    'status_g':'first',\n",
    "                                                    'year_commissioned':wm,\n",
    "                                                    'Generation':'sum',\n",
    "                                                    'time_coverage':wm,\n",
    "                                                    'co2emitted':'sum',\n",
    "                                                    'eic_g':pd.Series.nunique}) #creating a column for unit_count\n",
    "\n",
    "jrc_plant.reset_index(inplace = True)\n",
    "jrc_plant.rename(columns={'eic_g':'unit_count'}, inplace=True) #naming count column \"unit_count\""
   ]
  },
  {
   "cell_type": "markdown",
   "metadata": {},
   "source": [
    "Adding WRI_id"
   ]
  },
  {
   "cell_type": "code",
   "execution_count": 7,
   "metadata": {},
   "outputs": [],
   "source": [
    "jrc_id = jrc_id[['eic_p','WRI_id']].drop_duplicates()"
   ]
  },
  {
   "cell_type": "code",
   "execution_count": 8,
   "metadata": {},
   "outputs": [],
   "source": [
    "jrc_plant = pd.merge(jrc_plant,jrc_id[['eic_p','WRI_id']],on='eic_p', how='left')"
   ]
  },
  {
   "cell_type": "markdown",
   "metadata": {},
   "source": [
    "Dropping unwanted columns"
   ]
  },
  {
   "cell_type": "code",
   "execution_count": 9,
   "metadata": {},
   "outputs": [],
   "source": [
    "jrc_plant.drop(['eic_p', 'status_g', 'time_coverage'], axis=1, inplace=True)"
   ]
  },
  {
   "cell_type": "markdown",
   "metadata": {},
   "source": [
    "Renaming columns"
   ]
  },
  {
   "cell_type": "code",
   "execution_count": 10,
   "metadata": {},
   "outputs": [],
   "source": [
    "jrc_plant.rename(columns={'cyear':'year', 'name_p':'name', 'capacity_p': 'capacity_mw',\n",
    "                      'type_g':'primary_fuel', 'lat': 'latitude', 'lon': 'longitude',\n",
    "                      'year_commissioned':'commissioning_year', 'Generation': 'generation_mwh',\n",
    "                      'co2emitted': 'co2_emissions_kg', 'WRI_id': 'gppd_idnr'}, inplace=True)"
   ]
  },
  {
   "cell_type": "markdown",
   "metadata": {},
   "source": [
    "Unit Conversions: generation_MWh to generation_GWh"
   ]
  },
  {
   "cell_type": "code",
   "execution_count": 11,
   "metadata": {},
   "outputs": [],
   "source": [
    "jrc_plant['generation_mwh'] = jrc_plant['generation_mwh'].apply(lambda x: x*ureg.MWh)\n",
    "jrc_plant['generation_mwh'] = jrc_plant['generation_mwh'].apply(lambda x: x.to(ureg.GWh))\n",
    "jrc_plant['generation_mwh'] = jrc_plant['generation_mwh'].apply(lambda x: x.magnitude)\n",
    "jrc_plant.rename(columns={'generation_mwh':'generation_gwh'}, inplace=True)"
   ]
  },
  {
   "cell_type": "markdown",
   "metadata": {},
   "source": [
    "Unit Conversions: co2_emissions_kg to co2_emissions_tonne"
   ]
  },
  {
   "cell_type": "code",
   "execution_count": 12,
   "metadata": {},
   "outputs": [],
   "source": [
    "jrc_plant['co2_emissions_kg'] = jrc_plant['co2_emissions_kg'].apply(lambda x: x*ureg.kilogram)\n",
    "jrc_plant['co2_emissions_kg'] = jrc_plant['co2_emissions_kg'].apply(lambda x: x.to(ureg.metric_ton))\n",
    "jrc_plant['co2_emissions_kg'] = jrc_plant['co2_emissions_kg'].apply(lambda x: x.magnitude)\n",
    "jrc_plant.rename(columns={'co2_emissions_kg':'co2_emissions_tonne'}, inplace=True)"
   ]
  },
  {
   "cell_type": "markdown",
   "metadata": {},
   "source": [
    "Changing country name to 3-char ISO code"
   ]
  },
  {
   "cell_type": "code",
   "execution_count": 13,
   "metadata": {},
   "outputs": [],
   "source": [
    "#country_code= pd.read_csv('https://raw.githubusercontent.com/wri/global-power-plant-database/master/resources/country_information.csv')\n",
    "#country_code.rename(columns={'primary_country_name':'country'}, inplace=True)"
   ]
  },
  {
   "cell_type": "code",
   "execution_count": 14,
   "metadata": {},
   "outputs": [],
   "source": [
    "#jrc_plant.loc[jrc_plant['country'] == 'Czechia', 'country'] = 'Czech Republic'\n",
    "#jrc_plant = pd.merge(jrc_plant,country_code[['country','iso_country_code']],on='country', how='left')\n",
    "#jrc_plant.drop(['country'], axis=1, inplace=True)\n",
    "#jrc_plant.rename(columns={'iso_country_code':'country'}, inplace=True)"
   ]
  },
  {
   "cell_type": "markdown",
   "metadata": {},
   "source": [
    "Changing order of columns in dataframe"
   ]
  },
  {
   "cell_type": "code",
   "execution_count": 15,
   "metadata": {},
   "outputs": [],
   "source": [
    "jrc_plant= jrc_plant[['name','gppd_idnr','country', 'year',  'co2_emissions_tonne',  \n",
    "              'capacity_mw','primary_fuel', 'generation_gwh','commissioning_year',\n",
    "              'latitude', 'longitude', 'unit_count']]  "
   ]
  },
  {
   "cell_type": "code",
   "execution_count": 16,
   "metadata": {},
   "outputs": [
    {
     "data": {
      "text/html": [
       "<div>\n",
       "<style scoped>\n",
       "    .dataframe tbody tr th:only-of-type {\n",
       "        vertical-align: middle;\n",
       "    }\n",
       "\n",
       "    .dataframe tbody tr th {\n",
       "        vertical-align: top;\n",
       "    }\n",
       "\n",
       "    .dataframe thead th {\n",
       "        text-align: right;\n",
       "    }\n",
       "</style>\n",
       "<table border=\"1\" class=\"dataframe\">\n",
       "  <thead>\n",
       "    <tr style=\"text-align: right;\">\n",
       "      <th></th>\n",
       "      <th>name</th>\n",
       "      <th>gppd_idnr</th>\n",
       "      <th>country</th>\n",
       "      <th>year</th>\n",
       "      <th>co2_emissions_tonne</th>\n",
       "      <th>capacity_mw</th>\n",
       "      <th>primary_fuel</th>\n",
       "      <th>generation_gwh</th>\n",
       "      <th>commissioning_year</th>\n",
       "      <th>latitude</th>\n",
       "      <th>longitude</th>\n",
       "      <th>unit_count</th>\n",
       "    </tr>\n",
       "  </thead>\n",
       "  <tbody>\n",
       "    <tr>\n",
       "      <th>0</th>\n",
       "      <td>KW Hafen</td>\n",
       "      <td>WRI1005901</td>\n",
       "      <td>Germany</td>\n",
       "      <td>2015</td>\n",
       "      <td>1447350.0</td>\n",
       "      <td>300.0</td>\n",
       "      <td>Fossil Hard coal</td>\n",
       "      <td>1621.469</td>\n",
       "      <td>NaN</td>\n",
       "      <td>53.202</td>\n",
       "      <td>8.516</td>\n",
       "      <td>1</td>\n",
       "    </tr>\n",
       "    <tr>\n",
       "      <th>1</th>\n",
       "      <td>KW Hafen</td>\n",
       "      <td>WRI1005901</td>\n",
       "      <td>Germany</td>\n",
       "      <td>2016</td>\n",
       "      <td>1369630.0</td>\n",
       "      <td>300.0</td>\n",
       "      <td>Fossil Hard coal</td>\n",
       "      <td>1534.400</td>\n",
       "      <td>NaN</td>\n",
       "      <td>53.202</td>\n",
       "      <td>8.516</td>\n",
       "      <td>1</td>\n",
       "    </tr>\n",
       "    <tr>\n",
       "      <th>2</th>\n",
       "      <td>KW Hafen</td>\n",
       "      <td>WRI1005901</td>\n",
       "      <td>Germany</td>\n",
       "      <td>2017</td>\n",
       "      <td>1498930.0</td>\n",
       "      <td>300.0</td>\n",
       "      <td>Fossil Hard coal</td>\n",
       "      <td>1679.258</td>\n",
       "      <td>NaN</td>\n",
       "      <td>53.202</td>\n",
       "      <td>8.516</td>\n",
       "      <td>1</td>\n",
       "    </tr>\n",
       "    <tr>\n",
       "      <th>3</th>\n",
       "      <td>KW Hafen</td>\n",
       "      <td>WRI1005901</td>\n",
       "      <td>Germany</td>\n",
       "      <td>2018</td>\n",
       "      <td>1118130.0</td>\n",
       "      <td>300.0</td>\n",
       "      <td>Fossil Hard coal</td>\n",
       "      <td>1252.650</td>\n",
       "      <td>NaN</td>\n",
       "      <td>53.202</td>\n",
       "      <td>8.516</td>\n",
       "      <td>1</td>\n",
       "    </tr>\n",
       "    <tr>\n",
       "      <th>4</th>\n",
       "      <td>KW Hastedt</td>\n",
       "      <td>WRI1005903</td>\n",
       "      <td>Germany</td>\n",
       "      <td>2015</td>\n",
       "      <td>781362.0</td>\n",
       "      <td>119.0</td>\n",
       "      <td>Fossil Hard coal</td>\n",
       "      <td>763.137</td>\n",
       "      <td>NaN</td>\n",
       "      <td>53.059</td>\n",
       "      <td>8.873</td>\n",
       "      <td>1</td>\n",
       "    </tr>\n",
       "  </tbody>\n",
       "</table>\n",
       "</div>"
      ],
      "text/plain": [
       "         name   gppd_idnr  country  year  co2_emissions_tonne  capacity_mw  \\\n",
       "0    KW Hafen  WRI1005901  Germany  2015            1447350.0        300.0   \n",
       "1    KW Hafen  WRI1005901  Germany  2016            1369630.0        300.0   \n",
       "2    KW Hafen  WRI1005901  Germany  2017            1498930.0        300.0   \n",
       "3    KW Hafen  WRI1005901  Germany  2018            1118130.0        300.0   \n",
       "4  KW Hastedt  WRI1005903  Germany  2015             781362.0        119.0   \n",
       "\n",
       "       primary_fuel  generation_gwh  commissioning_year  latitude  longitude  \\\n",
       "0  Fossil Hard coal        1621.469                 NaN    53.202      8.516   \n",
       "1  Fossil Hard coal        1534.400                 NaN    53.202      8.516   \n",
       "2  Fossil Hard coal        1679.258                 NaN    53.202      8.516   \n",
       "3  Fossil Hard coal        1252.650                 NaN    53.202      8.516   \n",
       "4  Fossil Hard coal         763.137                 NaN    53.059      8.873   \n",
       "\n",
       "   unit_count  \n",
       "0           1  \n",
       "1           1  \n",
       "2           1  \n",
       "3           1  \n",
       "4           1  "
      ]
     },
     "execution_count": 16,
     "metadata": {},
     "output_type": "execute_result"
    }
   ],
   "source": [
    "jrc_plant.head()"
   ]
  },
  {
   "cell_type": "code",
   "execution_count": 17,
   "metadata": {},
   "outputs": [],
   "source": [
    "jrc_plant.to_csv('jrc_powerplants.csv', index=False)"
   ]
  },
  {
   "cell_type": "code",
   "execution_count": null,
   "metadata": {},
   "outputs": [],
   "source": []
  }
 ],
 "metadata": {
  "kernelspec": {
   "display_name": "Python 3",
   "language": "python",
   "name": "python3"
  },
  "language_info": {
   "codemirror_mode": {
    "name": "ipython",
    "version": 3
   },
   "file_extension": ".py",
   "mimetype": "text/x-python",
   "name": "python",
   "nbconvert_exporter": "python",
   "pygments_lexer": "ipython3",
   "version": "3.7.4"
  }
 },
 "nbformat": 4,
 "nbformat_minor": 2
}
